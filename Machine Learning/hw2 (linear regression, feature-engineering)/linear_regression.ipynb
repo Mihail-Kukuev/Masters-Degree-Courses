{
 "cells": [
  {
   "cell_type": "code",
   "execution_count": 1,
   "metadata": {},
   "outputs": [],
   "source": [
    "import numpy as np\n",
    "\n",
    "data = np.genfromtxt('basketball.csv', delimiter=',')[1:]\n",
    "X = data[:, :4]\n",
    "y = data[:, 4]"
   ]
  },
  {
   "cell_type": "markdown",
   "metadata": {},
   "source": [
    "1. Реализация алгоритма ridge-регрессии (формулы взяты из лекций Воронцова):"
   ]
  },
  {
   "cell_type": "code",
   "execution_count": 5,
   "metadata": {},
   "outputs": [
    {
     "data": {
      "text/plain": [
       "[<matplotlib.lines.Line2D at 0x7f0a4afd29b0>]"
      ]
     },
     "execution_count": 5,
     "metadata": {},
     "output_type": "execute_result"
    },
    {
     "data": {
      "image/png": "[encoded data removed]",
      "text/plain": [
       "<Figure size 432x288 with 1 Axes>"
      ]
     },
     "metadata": {
      "needs_background": "light"
     },
     "output_type": "display_data"
    }
   ],
   "source": [
    "from matplotlib import pyplot as plt\n",
    "\n",
    "taus = list(range(101))\n",
    "V, d, Ut = np.linalg.svd(X, full_matrices=False)\n",
    "mses = []\n",
    "for tau in taus:\n",
    "    y_pred = V.dot(np.diag(d / (d + tau))).dot(V.T).dot(y)\n",
    "    mses.append(((y_pred - y) ** 2).mean())\n",
    "plt.plot(taus, mses)"
   ]
  },
  {
   "cell_type": "markdown",
   "metadata": {},
   "source": [
    "Выведем отдельно наименьшую среднеквадратичную ошибку (mse) и искомый вектор весов для нее:"
   ]
  },
  {
   "cell_type": "code",
   "execution_count": 18,
   "metadata": {},
   "outputs": [
    {
     "name": "stdout",
     "output_type": "stream",
     "text": [
      "w = [-3.04634035e+00  4.47411947e-03  4.82210324e+01  1.24703504e+01]\n",
      "mse = 26.607689631709484\n"
     ]
    }
   ],
   "source": [
    "tau = 0\n",
    "w = Ut.T.dot(np.diag(d / (d ** 2 + tau))).dot(V.T).dot(y)\n",
    "mse = ((X.dot(w) - y) ** 2).mean()\n",
    "print('w = {}'.format(w))\n",
    "print('mse = {}'.format(mse))"
   ]
  },
  {
   "cell_type": "markdown",
   "metadata": {},
   "source": [
    "2. Регрессия с функцией потерь $L(h,(x,y))=|h(x)−y|$\n",
    "<br/>Задачу минимизации эмпирического риска в линейной регрессии функцией потерь $L(h,(x,y))=|h(x)−y|$ можно представить, как следующую задачу линейного программирования:\n",
    "$$min_{w}\\sum_{i=0}^m|wx_i-y_i|$$\n",
    "То же самое в матричном виде:\n",
    "$$min_{w}||Xw-y||_1$$\n",
    "Она, в свою очередь сводится к задаче линейного программирования:\n",
    "<center>\n",
    "<br/>minimize $1^Tt$\n",
    "<br/>subject to $-t \\leq Xw-y \\leq t$\n",
    "</center>\n",
    "<br/>То же самое:\n",
    "<center>\n",
    "<br/>minimize $1^Tt$\n",
    "<br/>subject to $\\left\\lgroup \\matrix{X & -I\\cr -X & I} \\right\\rgroup \n",
    "\\left\\lgroup \\matrix{w\\cr t} \\right\\rgroup \\leq\n",
    "\\left\\lgroup \\matrix{y\\cr-y} \\right\\rgroup $\n",
    "</center>"
   ]
  },
  {
   "cell_type": "code",
   "execution_count": 19,
   "metadata": {},
   "outputs": [
    {
     "name": "stdout",
     "output_type": "stream",
     "text": [
      "w = [ 0.         0.         5.3720284 10.9138623]\n",
      "mse = 32.75954567607067\n"
     ]
    }
   ],
   "source": [
    "from scipy.optimize import linprog\n",
    "\n",
    "m, n = X.shape\n",
    "A = np.concatenate((np.concatenate([X, -np.eye(m)], axis=1), np.concatenate([-X, -np.eye(m)], axis=1)))\n",
    "b = np.concatenate([y, -y])\n",
    "c = np.concatenate([np.zeros(n), np.ones(m)])\n",
    "result = linprog(c, A, b)\n",
    "w = result.x[:n]\n",
    "mse = ((X.dot(w) - y)**2).mean()\n",
    "print('w = {}'.format(w))\n",
    "print('mse = {}'.format(mse))"
   ]
  },
  {
   "cell_type": "markdown",
   "metadata": {},
   "source": [
    "Как видим, среднеквадратичная ошибка mse у ridge-регресссии меньше, зато регрессия, основанная на методе наименьших модулей позволяет отобрать наиболее информативные признаки.\n",
    "<br/>Метод наименьших модулей из 2 модели предпочтительнее использовать в случаях, когда шум в данных подчиняется распределению Лапласа, а ridge-регрессию, когда шум гауссовский."
   ]
  }
 ],
 "metadata": {
  "kernelspec": {
   "display_name": "Python 2",
   "language": "python",
   "name": "python2"
  },
  "language_info": {
   "codemirror_mode": {
    "name": "ipython",
    "version": 3
   },
   "file_extension": ".py",
   "mimetype": "text/x-python",
   "name": "python",
   "nbconvert_exporter": "python",
   "pygments_lexer": "ipython3",
   "version": "3.7.0"
  }
 },
 "nbformat": 4,
 "nbformat_minor": 2
}
